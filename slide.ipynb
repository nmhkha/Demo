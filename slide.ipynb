{
 "cells": [
  {
   "cell_type": "code",
   "execution_count": 1,
   "metadata": {},
   "outputs": [
    {
     "name": "stdout",
     "output_type": "stream",
     "text": [
      "Connect MySQL Sever succesfully\n"
     ]
    }
   ],
   "source": [
    "import mysql.connector\n",
    "from mysql.connector import errorcode\n",
    "\n",
    "config = {\n",
    "    'user': 'root',\n",
    "    'password': '1qz2MxCid',\n",
    "    'host': 'localhost'\n",
    "}\n",
    "\n",
    "# Connect to MySQL\n",
    "try:\n",
    "    conn = mysql.connector.connect(**config)\n",
    "    cursor = conn.cursor()\n",
    "    print('Connect MySQL Sever succesfully')\n",
    "except mysql.connector.Error as err:\n",
    "    if err.errno == errorcode.ER_ACCESS_DENIED_ERROR:\n",
    "        print('Connect error, please check username/password')\n",
    "    else:\n",
    "        print(err)"
   ]
  },
  {
   "cell_type": "code",
   "execution_count": 3,
   "metadata": {},
   "outputs": [
    {
     "name": "stdout",
     "output_type": "stream",
     "text": [
      "DB existing\n"
     ]
    }
   ],
   "source": [
    "#Create new DB\n",
    "try:\n",
    "    cursor.execute(\"CREATE DATABASE library_db\")\n",
    "    print(\"Create Db succesfully\")\n",
    "except mysql.connector.Error as err:\n",
    "    if err.errno == errorcode.ER_DB_CREATE_EXISTS:\n",
    "        print('DB existing')\n",
    "    else:\n",
    "        print(err)"
   ]
  },
  {
   "cell_type": "code",
   "execution_count": 9,
   "metadata": {},
   "outputs": [
    {
     "name": "stdout",
     "output_type": "stream",
     "text": [
      "Connect DB successfully\n",
      "Create Book tbale successfully\n"
     ]
    }
   ],
   "source": [
    "config['database'] = 'library_db'\n",
    "try:\n",
    "    conn.database = config['database']\n",
    "    print(\"Connect DB successfully\")\n",
    "except mysql.connector.Error as err:\n",
    "    print(\"Can not connect DB\")\n",
    "    print(err)\n",
    "\n",
    "sqlBook = (\n",
    "    \"CREATE TABLE Books (\"\n",
    "    \" book_id INT AUTO_INCREMENT PRIMARY KEY, \"\n",
    "    \" title VARCHAR (255) NOT NULL,\"\n",
    "    \" author VARCHAR(255),\"\n",
    "    \" published_date DATE\"\n",
    "    \")\")\n",
    "\n",
    "try:\n",
    "    cursor.execute(sqlBook)\n",
    "    print(f\"Create Book tbale successfully\")\n",
    "except mysql.connector.Error as err:\n",
    "    if err.errno == errorcode.ER_TABLE_EXISTS_ERROR:\n",
    "        print(f\"Book table existing\")\n",
    "    else:\n",
    "        print(err)"
   ]
  },
  {
   "cell_type": "code",
   "execution_count": 7,
   "metadata": {},
   "outputs": [
    {
     "name": "stdout",
     "output_type": "stream",
     "text": [
      "Delete table successfully\n"
     ]
    }
   ],
   "source": [
    "drop_table_query = \"DROP TABLE IF EXISTS Books;\"\n",
    "\n",
    "try:\n",
    "    cursor.execute(drop_table_query)\n",
    "    print(\"Delete table successfully\")\n",
    "except mysql.connector.Error as err:\n",
    "    print(f\"Error: {err}\")"
   ]
  },
  {
   "cell_type": "code",
   "execution_count": 10,
   "metadata": {},
   "outputs": [
    {
     "name": "stdout",
     "output_type": "stream",
     "text": [
      "Insert Data successfully\n"
     ]
    }
   ],
   "source": [
    "sqlInsertBook1 = (\"INSERT INTO Books \"\n",
    "            \"(title, author, published_date) \"\n",
    "            \"VALUES ('Programming Python', 'Raymond', '2023-01-01')\")\n",
    "#Excute Insert\n",
    "try:\n",
    "    cursor.execute(sqlInsertBook1)\n",
    "    conn.commit()\n",
    "    print(\"Insert Data successfully\")\n",
    "except mysql.connector.Error as err:\n",
    "    print(f\"Erorr: {err}\")\n",
    "    conn.rollback"
   ]
  },
  {
   "cell_type": "code",
   "execution_count": 11,
   "metadata": {},
   "outputs": [
    {
     "name": "stdout",
     "output_type": "stream",
     "text": [
      "Insert records successfully\n"
     ]
    }
   ],
   "source": [
    "sql_add_book = (\"INSERT INTO Books \"\n",
    "            \"(title, author , published_date) \"\n",
    "            \"VALUES (%s, %s, %s)\")\n",
    "book_data = [\n",
    "    ('Learning Python', 'Mark Lutz', '2019-06-10'),\n",
    "    ('Python Crash Course', 'Eric Matthes', '2022-05-12'),\n",
    "    ('Effective Modern C++', 'Scott Meyers', '2023-12-14'),\n",
    "    ('The C++ Programming Language', 'Bjarne Stroustrup', '2016-05-20')\n",
    "]\n",
    "\n",
    "#Exucte insert many records\n",
    "try:\n",
    "    cursor.executemany(sql_add_book, book_data)\n",
    "    conn.commit()\n",
    "    print(\"Insert records successfully\")\n",
    "except mysql.connector.Error as err:\n",
    "    print(f\"Error: {err}\")\n",
    "    conn.rollback"
   ]
  },
  {
   "cell_type": "code",
   "execution_count": 12,
   "metadata": {},
   "outputs": [
    {
     "name": "stdout",
     "output_type": "stream",
     "text": [
      "ID: 1, Author:Programming Python, Ttile:Raymond, Published date:2023-01-01\n",
      "ID: 2, Author:Learning Python, Ttile:Mark Lutz, Published date:2019-06-10\n",
      "ID: 3, Author:Python Crash Course, Ttile:Eric Matthes, Published date:2022-05-12\n",
      "ID: 4, Author:Effective Modern C++, Ttile:Scott Meyers, Published date:2023-12-14\n",
      "ID: 5, Author:The C++ Programming Language, Ttile:Bjarne Stroustrup, Published date:2016-05-20\n"
     ]
    }
   ],
   "source": [
    "select_query = \"SELECT * FROM Books\"\n",
    "\n",
    "#Excute Select\n",
    "try:\n",
    "    cursor.execute(select_query)\n",
    "    results = cursor.fetchall()\n",
    "    for row in results:\n",
    "        print(f\"ID: {row[0]}, Author:{row[1]}, Ttile:{row[2]}, Published date:{row[3]}\")\n",
    "except mysql.connector.Error as err:\n",
    "    print(f\"Error: {err}\")"
   ]
  },
  {
   "cell_type": "code",
   "execution_count": 13,
   "metadata": {},
   "outputs": [
    {
     "name": "stdout",
     "output_type": "stream",
     "text": [
      "Update data successfully\n"
     ]
    }
   ],
   "source": [
    "#Exucte UPDATE\n",
    "sql_book_update = (\"UPDATE Books \"\n",
    "                \"SET title = %s \"\n",
    "                \"WHERE book_id = %s\")\n",
    "\n",
    "update_data = ('Advanced Python', 1)\n",
    "try:\n",
    "    cursor.execute(sql_book_update, update_data)\n",
    "    conn.commit()\n",
    "    print(\"Update data successfully\")\n",
    "except mysql.connector.Error as err:\n",
    "    print(f\"Error: {err}\")\n",
    "    conn.rollback()"
   ]
  }
 ],
 "metadata": {
  "kernelspec": {
   "display_name": "Python 3",
   "language": "python",
   "name": "python3"
  },
  "language_info": {
   "codemirror_mode": {
    "name": "ipython",
    "version": 3
   },
   "file_extension": ".py",
   "mimetype": "text/x-python",
   "name": "python",
   "nbconvert_exporter": "python",
   "pygments_lexer": "ipython3",
   "version": "3.12.3"
  }
 },
 "nbformat": 4,
 "nbformat_minor": 2
}
